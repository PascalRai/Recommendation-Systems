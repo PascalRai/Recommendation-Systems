{
 "cells": [
  {
   "cell_type": "markdown",
   "id": "20faf531",
   "metadata": {},
   "source": [
    "# 0. Problem Statement:\n",
    "\n",
    "We have user-interaction data for movies and users; (Ratings)\n",
    "<br>We have to recommend movies to user those movies which they have not watched but are more likely to watch/ enjoy.\n",
    "\n",
    "We are using a ALS model (Matrix Factoriztion model) from spark.\n",
    "<br>This model is a collaborative filtering recommendation model,\n",
    "<br>and better models like deep learning recommendation model and hybrid models can capture even more complex relationship between user features and item features."
   ]
  },
  {
   "cell_type": "markdown",
   "id": "3de6612c",
   "metadata": {},
   "source": [
    "# 1. Import libraries"
   ]
  },
  {
   "cell_type": "code",
   "execution_count": 1,
   "id": "12524e0b",
   "metadata": {},
   "outputs": [],
   "source": [
    "from pyspark.ml.tuning import CrossValidator, ParamGridBuilder\n",
    "from pyspark.sql import SparkSession\n",
    "from pyspark.sql.functions import explode\n",
    "from pyspark.conf import SparkConf\n",
    "from pyspark.ml.evaluation import RegressionEvaluator\n",
    "from pyspark.ml.recommendation import ALS"
   ]
  },
  {
   "cell_type": "markdown",
   "id": "e7dd63ec",
   "metadata": {},
   "source": [
    "# 2. Initialize SparkSession for local driver"
   ]
  },
  {
   "cell_type": "code",
   "execution_count": 2,
   "id": "0b900280",
   "metadata": {},
   "outputs": [
    {
     "name": "stdout",
     "output_type": "stream",
     "text": [
      "23/03/31 10:53:35 WARN Utils: Your hostname, pascal-G3-3579 resolves to a loopback address: 127.0.1.1; using 192.168.13.145 instead (on interface wlo1)\n",
      "23/03/31 10:53:35 WARN Utils: Set SPARK_LOCAL_IP if you need to bind to another address\n"
     ]
    },
    {
     "name": "stderr",
     "output_type": "stream",
     "text": [
      "Setting default log level to \"WARN\".\n",
      "To adjust logging level use sc.setLogLevel(newLevel). For SparkR, use setLogLevel(newLevel).\n"
     ]
    },
    {
     "name": "stdout",
     "output_type": "stream",
     "text": [
      "23/03/31 10:53:36 WARN NativeCodeLoader: Unable to load native-hadoop library for your platform... using builtin-java classes where applicable\n"
     ]
    }
   ],
   "source": [
    "spark = SparkSession.builder \\\n",
    "        .appName(\"ALS\") \\\n",
    "        .config(\"spark.driver.memory\", \"2g\") \\\n",
    "        .config(\"spark.executor.memory\", \"2g\") \\\n",
    "        .config(\"spark.executor.cores\", \"8\") \\\n",
    "        .getOrCreate()"
   ]
  },
  {
   "cell_type": "markdown",
   "id": "cf47c169",
   "metadata": {},
   "source": [
    "## Web UI access for Spark\n",
    "\n",
    "Generates the ip and port used by spark."
   ]
  },
  {
   "cell_type": "code",
   "execution_count": null,
   "id": "d0beac15",
   "metadata": {},
   "outputs": [],
   "source": [
    "spark.sparkContext.uiWebUrl"
   ]
  },
  {
   "cell_type": "markdown",
   "id": "c14caba5",
   "metadata": {},
   "source": [
    "# 3. Importing data: \n",
    "\n",
    "### user-interaction data"
   ]
  },
  {
   "cell_type": "code",
   "execution_count": 4,
   "id": "7f8ff1bf",
   "metadata": {},
   "outputs": [
    {
     "name": "stderr",
     "output_type": "stream",
     "text": [
      "                                                                                \r"
     ]
    }
   ],
   "source": [
    "ratings = spark.read.format('csv').option('header','true').option('inferSchema','true').load('ratings.csv')"
   ]
  },
  {
   "cell_type": "code",
   "execution_count": 5,
   "id": "39697054",
   "metadata": {},
   "outputs": [
    {
     "name": "stdout",
     "output_type": "stream",
     "text": [
      "+------+-------+------+----------+\n",
      "|userId|movieId|rating| timestamp|\n",
      "+------+-------+------+----------+\n",
      "|     1|    110|   1.0|1425941529|\n",
      "|     1|    147|   4.5|1425942435|\n",
      "|     1|    858|   5.0|1425941523|\n",
      "|     1|   1221|   5.0|1425941546|\n",
      "|     1|   1246|   5.0|1425941556|\n",
      "|     1|   1968|   4.0|1425942148|\n",
      "|     1|   2762|   4.5|1425941300|\n",
      "|     1|   2918|   5.0|1425941593|\n",
      "|     1|   2959|   4.0|1425941601|\n",
      "|     1|   4226|   4.0|1425942228|\n",
      "|     1|   4878|   5.0|1425941434|\n",
      "|     1|   5577|   5.0|1425941397|\n",
      "|     1|  33794|   4.0|1425942005|\n",
      "|     1|  54503|   3.5|1425941313|\n",
      "|     1|  58559|   4.0|1425942007|\n",
      "|     1|  59315|   5.0|1425941502|\n",
      "|     1|  68358|   5.0|1425941464|\n",
      "|     1|  69844|   5.0|1425942139|\n",
      "|     1|  73017|   5.0|1425942699|\n",
      "|     1|  81834|   5.0|1425942133|\n",
      "+------+-------+------+----------+\n",
      "only showing top 20 rows\n",
      "\n"
     ]
    }
   ],
   "source": [
    "ratings.show()"
   ]
  },
  {
   "cell_type": "markdown",
   "id": "8210095c",
   "metadata": {},
   "source": [
    "# 4. Preprocess data using sql query"
   ]
  },
  {
   "cell_type": "code",
   "execution_count": 6,
   "id": "26f3d248",
   "metadata": {},
   "outputs": [],
   "source": [
    "ratings.createOrReplaceTempView('ratings_q')\n",
    "data = spark.sql(\"SELECT userId, movieId, rating FROM ratings_q\")"
   ]
  },
  {
   "cell_type": "code",
   "execution_count": 7,
   "id": "06ec0ea2",
   "metadata": {},
   "outputs": [
    {
     "name": "stdout",
     "output_type": "stream",
     "text": [
      "root\n",
      " |-- userId: integer (nullable = true)\n",
      " |-- movieId: integer (nullable = true)\n",
      " |-- rating: double (nullable = true)\n",
      "\n"
     ]
    }
   ],
   "source": [
    "data.printSchema()"
   ]
  },
  {
   "cell_type": "code",
   "execution_count": 8,
   "id": "80978b5c",
   "metadata": {},
   "outputs": [],
   "source": [
    "(training, test) = data.randomSplit([0.8, 0.2])"
   ]
  },
  {
   "cell_type": "code",
   "execution_count": 9,
   "id": "4dc4f170",
   "metadata": {},
   "outputs": [
    {
     "name": "stderr",
     "output_type": "stream",
     "text": [
      "\r",
      "[Stage 3:>                                                          (0 + 1) / 1]\r"
     ]
    },
    {
     "name": "stdout",
     "output_type": "stream",
     "text": [
      "+------+-------+------+\n",
      "|userId|movieId|rating|\n",
      "+------+-------+------+\n",
      "|     1|    110|   1.0|\n",
      "|     1|    147|   4.5|\n",
      "|     1|   1221|   5.0|\n",
      "|     1|   1246|   5.0|\n",
      "|     1|   2762|   4.5|\n",
      "+------+-------+------+\n",
      "only showing top 5 rows\n",
      "\n"
     ]
    },
    {
     "name": "stderr",
     "output_type": "stream",
     "text": [
      "\r",
      "                                                                                \r"
     ]
    }
   ],
   "source": [
    "training.show(5)"
   ]
  },
  {
   "cell_type": "code",
   "execution_count": 10,
   "id": "4183cb5e",
   "metadata": {},
   "outputs": [
    {
     "name": "stderr",
     "output_type": "stream",
     "text": [
      "\r",
      "[Stage 4:>                                                          (0 + 1) / 1]\r"
     ]
    },
    {
     "name": "stdout",
     "output_type": "stream",
     "text": [
      "+------+-------+------+\n",
      "|userId|movieId|rating|\n",
      "+------+-------+------+\n",
      "|     1|    858|   5.0|\n",
      "|     1|   1968|   4.0|\n",
      "|     1|   2959|   4.0|\n",
      "|     1|   4878|   5.0|\n",
      "|     1|  33794|   4.0|\n",
      "+------+-------+------+\n",
      "only showing top 5 rows\n",
      "\n"
     ]
    },
    {
     "name": "stderr",
     "output_type": "stream",
     "text": [
      "\r",
      "                                                                                \r"
     ]
    }
   ],
   "source": [
    "test.show(5)"
   ]
  },
  {
   "cell_type": "markdown",
   "id": "8ddedee8",
   "metadata": {},
   "source": [
    "# 5. ALS Model training"
   ]
  },
  {
   "cell_type": "code",
   "execution_count": 11,
   "id": "56559ac9",
   "metadata": {},
   "outputs": [
    {
     "name": "stderr",
     "output_type": "stream",
     "text": [
      "                                                                                \r"
     ]
    }
   ],
   "source": [
    "als = ALS(regParam=0.1,userCol=\"userId\", itemCol=\"movieId\", ratingCol=\"rating\", coldStartStrategy=\"drop\")\n",
    "model = als.fit(training)"
   ]
  },
  {
   "cell_type": "markdown",
   "id": "de28dc84",
   "metadata": {},
   "source": [
    "# 6. Model Evaluation"
   ]
  },
  {
   "cell_type": "code",
   "execution_count": 12,
   "id": "7fc8ef92",
   "metadata": {},
   "outputs": [
    {
     "name": "stderr",
     "output_type": "stream",
     "text": [
      "[Stage 134:==================================================>      (8 + 1) / 9]\r"
     ]
    },
    {
     "name": "stdout",
     "output_type": "stream",
     "text": [
      "Root-mean-square error for training data = 0.7647781702300647\n"
     ]
    },
    {
     "name": "stderr",
     "output_type": "stream",
     "text": [
      "\r",
      "                                                                                \r"
     ]
    }
   ],
   "source": [
    "p_t = model.transform(training)\n",
    "p_t.createOrReplaceTempView('p_t_q')\n",
    "p_t = spark.sql('select * from p_t_q where prediction between 0 and 5')\n",
    "\n",
    "evaluator = RegressionEvaluator(metricName=\"rmse\", labelCol=\"rating\", predictionCol=\"prediction\")\n",
    "rmse = evaluator.evaluate(p_t)\n",
    "print(\"Root-mean-square error for training data = \" + str(rmse))"
   ]
  },
  {
   "cell_type": "code",
   "execution_count": 13,
   "id": "3e8188f6",
   "metadata": {},
   "outputs": [
    {
     "name": "stderr",
     "output_type": "stream",
     "text": [
      "[Stage 211:===============================>                         (5 + 4) / 9]\r"
     ]
    },
    {
     "name": "stdout",
     "output_type": "stream",
     "text": [
      "Root-mean-square error for test data = 0.8142715685205713\n"
     ]
    },
    {
     "name": "stderr",
     "output_type": "stream",
     "text": [
      "\r",
      "                                                                                \r"
     ]
    }
   ],
   "source": [
    "predictions = model.transform(test)\n",
    "predictions.createOrReplaceTempView('predictions_q')\n",
    "predictions = spark.sql('select * from predictions_q where prediction between 0 and 6')\n",
    "\n",
    "evaluator = RegressionEvaluator(metricName=\"rmse\", labelCol=\"rating\", predictionCol=\"prediction\")\n",
    "rmse = evaluator.evaluate(predictions)\n",
    "print(\"Root-mean-square error for test data = \" + str(rmse))"
   ]
  },
  {
   "cell_type": "markdown",
   "id": "da73ea65",
   "metadata": {},
   "source": [
    "### 0.81 for test dataset is ok for recommendation\n",
    "\n",
    "### This means that in average each rating prediction vary from its actual rating within 0.81 value"
   ]
  },
  {
   "cell_type": "markdown",
   "id": "44fc7d10",
   "metadata": {},
   "source": [
    "# 7. Model sample for test"
   ]
  },
  {
   "cell_type": "code",
   "execution_count": 14,
   "id": "fe6a72ac",
   "metadata": {},
   "outputs": [
    {
     "name": "stderr",
     "output_type": "stream",
     "text": [
      "                                                                                \r"
     ]
    },
    {
     "name": "stdout",
     "output_type": "stream",
     "text": [
      "+------+-------+------+----------+\n",
      "|userId|movieId|rating|prediction|\n",
      "+------+-------+------+----------+\n",
      "|    12|     32|   2.0| 3.9930055|\n",
      "|    12|     34|   5.0|   3.57819|\n",
      "|    12|     97|   4.0|  4.344831|\n",
      "|    12|    125|   5.0| 3.9484487|\n",
      "|    12|    232|   4.0| 4.1938753|\n",
      "|    12|    235|   5.0| 4.0297747|\n",
      "|    12|    293|   4.0|  4.035114|\n",
      "|    12|    307|   5.0| 4.3809977|\n",
      "|    12|    337|   4.0|  3.970195|\n",
      "|    12|    501|   5.0| 4.1721406|\n",
      "|    12|    529|   4.0| 3.7749987|\n",
      "|    12|    581|   5.0|  4.140504|\n",
      "|    12|    866|   3.0|  3.782192|\n",
      "|    12|    916|   4.0| 4.0173793|\n",
      "|    12|   1036|   4.0| 3.4112544|\n",
      "|    12|   1059|   4.0| 3.6425056|\n",
      "|    12|   1086|   4.0|  4.060757|\n",
      "|    12|   1111|   5.0|  4.253432|\n",
      "|    12|   1185|   4.0| 4.0638943|\n",
      "|    12|   1207|   4.0|  4.278233|\n",
      "+------+-------+------+----------+\n",
      "only showing top 20 rows\n",
      "\n"
     ]
    }
   ],
   "source": [
    "model.transform(test).show(20)"
   ]
  },
  {
   "cell_type": "markdown",
   "id": "a8ab66dd",
   "metadata": {},
   "source": [
    "# 8. Generating Recommendation"
   ]
  },
  {
   "cell_type": "code",
   "execution_count": 15,
   "id": "c0a6db97",
   "metadata": {},
   "outputs": [],
   "source": [
    "userRecs = model.recommendForAllUsers(10)\n",
    "movieRecs = model.recommendForAllItems(10)"
   ]
  },
  {
   "cell_type": "markdown",
   "id": "388b561d",
   "metadata": {},
   "source": [
    "# 9. Recommendation sample"
   ]
  },
  {
   "cell_type": "code",
   "execution_count": 16,
   "id": "3f019562",
   "metadata": {},
   "outputs": [
    {
     "name": "stderr",
     "output_type": "stream",
     "text": [
      "                                                                                \r"
     ]
    }
   ],
   "source": [
    "temp = userRecs.toPandas()"
   ]
  },
  {
   "cell_type": "markdown",
   "id": "4dbf2446",
   "metadata": {},
   "source": [
    "### For user id = 1; we have movie recommendation of movieId:"
   ]
  },
  {
   "cell_type": "code",
   "execution_count": 17,
   "id": "bce70491",
   "metadata": {},
   "outputs": [
    {
     "data": {
      "text/plain": [
       "[Row(movieId=101862, rating=6.973142623901367),\n",
       " Row(movieId=135113, rating=6.735901355743408),\n",
       " Row(movieId=107252, rating=6.522273540496826),\n",
       " Row(movieId=159761, rating=6.400022506713867),\n",
       " Row(movieId=74061, rating=6.370952606201172),\n",
       " Row(movieId=147124, rating=6.20601749420166),\n",
       " Row(movieId=173871, rating=6.117490768432617),\n",
       " Row(movieId=98275, rating=6.113006114959717),\n",
       " Row(movieId=118236, rating=6.102718353271484),\n",
       " Row(movieId=146501, rating=6.072976112365723)]"
      ]
     },
     "execution_count": 17,
     "metadata": {},
     "output_type": "execute_result"
    }
   ],
   "source": [
    "temp[temp['userId']==1].iloc[0,1]"
   ]
  },
  {
   "cell_type": "markdown",
   "id": "b113e0ff",
   "metadata": {},
   "source": [
    "### For user id = 2; we have movie recommendation of movieId:"
   ]
  },
  {
   "cell_type": "code",
   "execution_count": 18,
   "id": "54745595",
   "metadata": {},
   "outputs": [
    {
     "data": {
      "text/plain": [
       "[Row(movieId=159761, rating=5.1935553550720215),\n",
       " Row(movieId=151615, rating=4.9627509117126465),\n",
       " Row(movieId=131586, rating=4.884283542633057),\n",
       " Row(movieId=146724, rating=4.865076065063477),\n",
       " Row(movieId=166812, rating=4.859807968139648),\n",
       " Row(movieId=107252, rating=4.8042073249816895),\n",
       " Row(movieId=164937, rating=4.7965922355651855),\n",
       " Row(movieId=163799, rating=4.793788909912109),\n",
       " Row(movieId=154588, rating=4.752204418182373),\n",
       " Row(movieId=173153, rating=4.71326208114624)]"
      ]
     },
     "execution_count": 18,
     "metadata": {},
     "output_type": "execute_result"
    }
   ],
   "source": [
    "temp[temp['userId']==2].iloc[0,1]"
   ]
  },
  {
   "cell_type": "markdown",
   "id": "59ce955f",
   "metadata": {},
   "source": [
    "### For user id = 3; we have movie recommendation of movieId:"
   ]
  },
  {
   "cell_type": "code",
   "execution_count": 19,
   "id": "18dea588",
   "metadata": {},
   "outputs": [
    {
     "data": {
      "text/plain": [
       "[Row(movieId=175335, rating=4.224606990814209),\n",
       " Row(movieId=66389, rating=4.212313652038574),\n",
       " Row(movieId=101862, rating=4.198924541473389),\n",
       " Row(movieId=165689, rating=4.176628589630127),\n",
       " Row(movieId=158571, rating=4.096182346343994),\n",
       " Row(movieId=144202, rating=4.0868659019470215),\n",
       " Row(movieId=170683, rating=4.065147399902344),\n",
       " Row(movieId=166812, rating=4.059095859527588),\n",
       " Row(movieId=164937, rating=4.054503917694092),\n",
       " Row(movieId=150228, rating=4.051459312438965)]"
      ]
     },
     "execution_count": 19,
     "metadata": {},
     "output_type": "execute_result"
    }
   ],
   "source": [
    "temp[temp['userId']==3].iloc[0,1]"
   ]
  },
  {
   "cell_type": "code",
   "execution_count": null,
   "id": "f968e341",
   "metadata": {},
   "outputs": [],
   "source": []
  }
 ],
 "metadata": {
  "kernelspec": {
   "display_name": "Python 3 (ipykernel)",
   "language": "python",
   "name": "python3"
  },
  "language_info": {
   "codemirror_mode": {
    "name": "ipython",
    "version": 3
   },
   "file_extension": ".py",
   "mimetype": "text/x-python",
   "name": "python",
   "nbconvert_exporter": "python",
   "pygments_lexer": "ipython3",
   "version": "3.10.6"
  }
 },
 "nbformat": 4,
 "nbformat_minor": 5
}
